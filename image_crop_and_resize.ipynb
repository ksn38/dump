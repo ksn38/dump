{
 "cells": [
  {
   "cell_type": "code",
   "execution_count": 1,
   "metadata": {},
   "outputs": [],
   "source": [
    "from PIL import Image\n",
    "import PIL.ImageOps    \n",
    "import os\n",
    "import numpy as np\n",
    "import matplotlib.pyplot as plt\n",
    "import matplotlib.colors"
   ]
  },
  {
   "cell_type": "code",
   "execution_count": 2,
   "metadata": {},
   "outputs": [],
   "source": [
    "list_files = os.listdir('C:\\\\Users\\\\ksn\\\\temp')\n",
    "for i in list_files:\n",
    "    image = Image.open('C:\\\\Users\\\\ksn\\\\temp\\\\' + i)\n",
    "    w, h = image.size\n",
    "    crop_area = (420, 0, 1500, 1080)\n",
    "    img = image.crop(crop_area)\n",
    "    img = img.resize((512, 512))\n",
    "    img.save('E:\\\\Temp\\\\tmp\\\\' + i)"
   ]
  }
 ],
 "metadata": {
  "kernelspec": {
   "display_name": "Python 3",
   "language": "python",
   "name": "python3"
  },
  "language_info": {
   "codemirror_mode": {
    "name": "ipython",
    "version": 3
   },
   "file_extension": ".py",
   "mimetype": "text/x-python",
   "name": "python",
   "nbconvert_exporter": "python",
   "pygments_lexer": "ipython3",
   "version": "3.7.8"
  }
 },
 "nbformat": 4,
 "nbformat_minor": 4
}
