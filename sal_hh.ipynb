{
 "cells": [
  {
   "cell_type": "code",
   "execution_count": 5,
   "id": "3c08b282-70a9-4e44-a298-fd11e4d46716",
   "metadata": {},
   "outputs": [],
   "source": [
    "import requests\n",
    "import json\n",
    "import time\n",
    "import pandas as pd\n",
    "from datetime import date\n",
    "import re"
   ]
  },
  {
   "cell_type": "code",
   "execution_count": 6,
   "id": "8da42f88-3fc9-4c30-9c74-054e5ea26e12",
   "metadata": {},
   "outputs": [],
   "source": [
    "def scr(page, item, experience, flag):\n",
    "    if flag == \"langs\":\n",
    "        url = 'https://api.hh.ru/vacancies?&only_with_salary=true&' + experience + 'search_field=name&text=' + item + \\\n",
    "        '+not+%D0%BF%D1%80%D0%B5%D0%BF%D0%BE%D0%B4%D0%B0%D0%B2%D0%B0%D1%82%D0%B5%D0%BB%D1%8C+not+%D0%BA%D1%83%D1%80%D1%8C%D0%B5%D1%80' + \\\n",
    "        '&per_page=100&page=' + str(page)\n",
    "    elif flag == \"profs\":\n",
    "        url = 'https://api.hh.ru/vacancies?&only_with_salary=true&' + experience + 'search_field=name&text=' + item + \\\n",
    "        '&per_page=100&page=' + str(page)\n",
    "    response = requests.get(url)\n",
    "    yield json.loads(response.content.decode(\"utf-8\"))"
   ]
  },
  {
   "cell_type": "code",
   "execution_count": 7,
   "id": "01c938b3-bcf7-4621-aac8-3c8ca9a5b81c",
   "metadata": {},
   "outputs": [],
   "source": [
    "def sal(items, flag):\n",
    "    experiences = ['experience=noExperience&', 'experience=between1And3&', 'experience=between3And6&', 'experience=moreThan6&']\n",
    "    colmns = [re.findall('\\w*', i)[2] for i in experiences]\n",
    "    avg_sal = pd.DataFrame(index=items, columns=colmns)\n",
    "    for j in range(len(experiences)):\n",
    "        for item in items:\n",
    "            x = 0\n",
    "            salaries = []\n",
    "            while True:\n",
    "                vacs = next(scr(x, item, experiences[j], flag))\n",
    "                x += 1\n",
    "                #print(x)\n",
    "                if len(vacs['items']) == 0 or x > 10:\n",
    "                    break\n",
    "                for i in vacs['items']:\n",
    "                    try:\n",
    "                        if i['salary']['currency'] == 'RUR':\n",
    "                            if i['salary']['from'] == None:\n",
    "                                salaries.append(i['salary']['to'])\n",
    "                            else:\n",
    "                                salaries.append(i['salary']['from'])\n",
    "                    except TypeError:\n",
    "                        pass\n",
    "                time.sleep(3)\n",
    "        \n",
    "            if len(salaries) > 0:\n",
    "                avg_sal.at[item, colmns[j]] = int(pd.Series(salaries).median())\n",
    "\n",
    "    avg_sal['mean'] = (avg_sal['between1And3'] + avg_sal['between3And6'])/2\n",
    "    avg_sal.sort_values('mean', ascending=False).to_csv(str(date.today()) + '.csv')"
   ]
  },
  {
   "cell_type": "code",
   "execution_count": 8,
   "id": "d1b5345e-7526-45d3-85c1-fdf2f7340f37",
   "metadata": {},
   "outputs": [],
   "source": [
    "x = sal(['1С программист'], \"profs\")"
   ]
  },
  {
   "cell_type": "code",
   "execution_count": null,
   "id": "eb0fdb48-5769-4519-a96e-41132fb1d999",
   "metadata": {},
   "outputs": [],
   "source": []
  }
 ],
 "metadata": {
  "kernelspec": {
   "display_name": "Python 3 (ipykernel)",
   "language": "python",
   "name": "python3"
  },
  "language_info": {
   "codemirror_mode": {
    "name": "ipython",
    "version": 3
   },
   "file_extension": ".py",
   "mimetype": "text/x-python",
   "name": "python",
   "nbconvert_exporter": "python",
   "pygments_lexer": "ipython3",
   "version": "3.11.4"
  }
 },
 "nbformat": 4,
 "nbformat_minor": 5
}
