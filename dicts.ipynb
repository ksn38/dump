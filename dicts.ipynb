{
 "cells": [
  {
   "cell_type": "code",
   "execution_count": 1,
   "id": "8935d6a7",
   "metadata": {},
   "outputs": [],
   "source": [
    "import pandas as pd"
   ]
  },
  {
   "cell_type": "code",
   "execution_count": 2,
   "id": "49f82a90-357f-4cca-8aa8-a32c22ec80a5",
   "metadata": {},
   "outputs": [
    {
     "data": {
      "text/html": [
       "<div>\n",
       "<style scoped>\n",
       "    .dataframe tbody tr th:only-of-type {\n",
       "        vertical-align: middle;\n",
       "    }\n",
       "\n",
       "    .dataframe tbody tr th {\n",
       "        vertical-align: top;\n",
       "    }\n",
       "\n",
       "    .dataframe thead th {\n",
       "        text-align: right;\n",
       "    }\n",
       "</style>\n",
       "<table border=\"1\" class=\"dataframe\">\n",
       "  <thead>\n",
       "    <tr style=\"text-align: right;\">\n",
       "      <th></th>\n",
       "      <th>dict</th>\n",
       "      <th>count</th>\n",
       "    </tr>\n",
       "  </thead>\n",
       "  <tbody>\n",
       "    <tr>\n",
       "      <th>0</th>\n",
       "      <td>Tamil</td>\n",
       "      <td>1,347,142</td>\n",
       "    </tr>\n",
       "    <tr>\n",
       "      <th>1</th>\n",
       "      <td>Korean</td>\n",
       "      <td>1,149,538</td>\n",
       "    </tr>\n",
       "    <tr>\n",
       "      <th>2</th>\n",
       "      <td>Portuguese</td>\n",
       "      <td>818,000</td>\n",
       "    </tr>\n",
       "    <tr>\n",
       "      <th>3</th>\n",
       "      <td>Finnish</td>\n",
       "      <td>800,000</td>\n",
       "    </tr>\n",
       "    <tr>\n",
       "      <th>4</th>\n",
       "      <td>English</td>\n",
       "      <td>711,378</td>\n",
       "    </tr>\n",
       "  </tbody>\n",
       "</table>\n",
       "</div>"
      ],
      "text/plain": [
       "         dict      count\n",
       "0       Tamil  1,347,142\n",
       "1      Korean  1,149,538\n",
       "2  Portuguese    818,000\n",
       "3     Finnish    800,000\n",
       "4     English    711,378"
      ]
     },
     "execution_count": 2,
     "metadata": {},
     "output_type": "execute_result"
    }
   ],
   "source": [
    "df = pd.read_csv('dicts.csv', names=['dict', 'count'])\n",
    "df.head()"
   ]
  },
  {
   "cell_type": "code",
   "execution_count": 3,
   "id": "d84b2fc6-a37e-4ffa-b67b-ed1e4c008be5",
   "metadata": {},
   "outputs": [],
   "source": [
    "df['count'] = pd.Series(map(lambda x : x.replace(',', ''), df['count']))"
   ]
  },
  {
   "cell_type": "code",
   "execution_count": 4,
   "id": "df0fa816-d74a-4778-b1ab-028e01f6bdb3",
   "metadata": {},
   "outputs": [],
   "source": [
    "df['count'] = df['count'].astype('float')"
   ]
  },
  {
   "cell_type": "code",
   "execution_count": 5,
   "id": "0bced415-9cff-4ecb-ba56-960a11769d6f",
   "metadata": {},
   "outputs": [],
   "source": [
    "df2 = pd.DataFrame(columns=['dict', 'count'])"
   ]
  },
  {
   "cell_type": "code",
   "execution_count": 6,
   "id": "ee2b144a-95c4-47a4-9651-6e46493d482d",
   "metadata": {},
   "outputs": [],
   "source": [
    "for i in list(set(df.dict)):\n",
    "    df2.loc[len(df2)] = df[df.dict == i].iloc[0]"
   ]
  },
  {
   "cell_type": "code",
   "execution_count": 9,
   "id": "beb2b0ab-fc96-4c08-8749-e6d307e5f076",
   "metadata": {},
   "outputs": [],
   "source": [
    "df2.sort_values('count', ascending=False).to_csv('dicts2.csv', index=False)"
   ]
  },
  {
   "cell_type": "code",
   "execution_count": null,
   "id": "5b152f73-c44d-43d4-88d5-5db808c0f950",
   "metadata": {},
   "outputs": [],
   "source": []
  }
 ],
 "metadata": {
  "kernelspec": {
   "display_name": "Python 3 (ipykernel)",
   "language": "python",
   "name": "python3"
  },
  "language_info": {
   "codemirror_mode": {
    "name": "ipython",
    "version": 3
   },
   "file_extension": ".py",
   "mimetype": "text/x-python",
   "name": "python",
   "nbconvert_exporter": "python",
   "pygments_lexer": "ipython3",
   "version": "3.11.4"
  }
 },
 "nbformat": 4,
 "nbformat_minor": 5
}
