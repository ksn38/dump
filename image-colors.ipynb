{
 "cells": [
  {
   "cell_type": "code",
   "execution_count": 2,
   "metadata": {},
   "outputs": [],
   "source": [
    "from PIL import Image\n",
    "import PIL.ImageOps    \n",
    "import os\n",
    "import numpy as np\n",
    "import matplotlib.pyplot as plt\n",
    "import matplotlib.colors"
   ]
  },
  {
   "cell_type": "code",
   "execution_count": 3,
   "metadata": {},
   "outputs": [],
   "source": [
    "image = Image.open('E:\\\\Temp\\\\tmp\\\\0000.png')\n",
    "\n",
    "if image.mode == 'RGBA':\n",
    "    r,g,b,a = image.split()\n",
    "    rgb_image = Image.merge('RGB', (r,g,b))\n",
    "    \n",
    "#     inverted_image = PIL.ImageOps.invert(rgb_image)\n",
    "#     r2,g2,b2 = inverted_image.split()\n",
    "#     final_transparent_image = Image.merge('RGBA', (r2,g2,b2,a))\n",
    "    final_transparent_image = PIL.ImageOps.grayscale(rgb_image)\n",
    "    final_transparent_image = PIL.ImageOps.autocontrast(final_transparent_image)\n",
    "    final_transparent_image.save('new_file.png')\n",
    "\n",
    "else:\n",
    "    inverted_image = PIL.ImageOps.invert(image)\n",
    "    inverted_image.save('new_name.png')\n",
    "\n",
    "final_transparent_image.show()"
   ]
  },
  {
   "cell_type": "code",
   "execution_count": 4,
   "metadata": {},
   "outputs": [
    {
     "ename": "ModuleNotFoundError",
     "evalue": "No module named 'mandelbrot_image_circle'",
     "output_type": "error",
     "traceback": [
      "\u001b[1;31m---------------------------------------------------------------------------\u001b[0m",
      "\u001b[1;31mModuleNotFoundError\u001b[0m                       Traceback (most recent call last)",
      "Cell \u001b[1;32mIn[4], line 1\u001b[0m\n\u001b[1;32m----> 1\u001b[0m \u001b[38;5;28;01mimport\u001b[39;00m \u001b[38;5;21;01mmandelbrot_image_circle\u001b[39;00m\n\u001b[0;32m      3\u001b[0m my_cmap \u001b[38;5;241m=\u001b[39m matplotlib\u001b[38;5;241m.\u001b[39mcolors\u001b[38;5;241m.\u001b[39mListedColormap([\u001b[38;5;124m'\u001b[39m\u001b[38;5;124m#1c1b41\u001b[39m\u001b[38;5;124m'\u001b[39m, \u001b[38;5;124m'\u001b[39m\u001b[38;5;124m#edcf02\u001b[39m\u001b[38;5;124m'\u001b[39m, \u001b[38;5;124m'\u001b[39m\u001b[38;5;124m#38703f\u001b[39m\u001b[38;5;124m'\u001b[39m, \u001b[38;5;124m'\u001b[39m\u001b[38;5;124m#f5f7db\u001b[39m\u001b[38;5;124m'\u001b[39m, \\\n\u001b[0;32m      4\u001b[0m                                             \u001b[38;5;124m'\u001b[39m\u001b[38;5;124m#292328\u001b[39m\u001b[38;5;124m'\u001b[39m, \u001b[38;5;124m'\u001b[39m\u001b[38;5;124m#e42417\u001b[39m\u001b[38;5;124m'\u001b[39m, \u001b[38;5;124m'\u001b[39m\u001b[38;5;124m#546da2\u001b[39m\u001b[38;5;124m'\u001b[39m, \u001b[38;5;124m'\u001b[39m\u001b[38;5;124m#d8b21e\u001b[39m\u001b[38;5;124m'\u001b[39m], name\u001b[38;5;241m=\u001b[39m\u001b[38;5;124m'\u001b[39m\u001b[38;5;124mmy_cmap\u001b[39m\u001b[38;5;124m'\u001b[39m)\n\u001b[0;32m      5\u001b[0m mb \u001b[38;5;241m=\u001b[39m mandelbrot_image_circle\u001b[38;5;241m.\u001b[39mcalc_mand(\u001b[38;5;241m720\u001b[39m, \u001b[38;5;241m50\u001b[39m, \u001b[38;5;241m3.5\u001b[39m, \u001b[38;5;241m-\u001b[39m\u001b[38;5;241m0.5\u001b[39m, \u001b[38;5;241m0\u001b[39m, \u001b[38;5;241m2\u001b[39m)\n",
      "\u001b[1;31mModuleNotFoundError\u001b[0m: No module named 'mandelbrot_image_circle'"
     ]
    }
   ],
   "source": [
    "import mandelbrot_image_circle\n",
    "\n",
    "my_cmap = matplotlib.colors.ListedColormap(['#1c1b41', '#edcf02', '#38703f', '#f5f7db', \\\n",
    "                                            '#292328', '#e42417', '#546da2', '#d8b21e'], name='my_cmap')\n",
    "mb = mandelbrot_image_circle.calc_mand(720, 50, 3.5, -0.5, 0, 2)\n",
    "\n",
    "plt.subplots()[0].set_size_inches(10, 10)\n",
    "plt.imshow((mb.imag), cmap=my_cmap)"
   ]
  },
  {
   "cell_type": "code",
   "execution_count": null,
   "metadata": {},
   "outputs": [],
   "source": []
  }
 ],
 "metadata": {
  "kernelspec": {
   "display_name": "Python 3 (ipykernel)",
   "language": "python",
   "name": "python3"
  },
  "language_info": {
   "codemirror_mode": {
    "name": "ipython",
    "version": 3
   },
   "file_extension": ".py",
   "mimetype": "text/x-python",
   "name": "python",
   "nbconvert_exporter": "python",
   "pygments_lexer": "ipython3",
   "version": "3.11.4"
  }
 },
 "nbformat": 4,
 "nbformat_minor": 4
}
