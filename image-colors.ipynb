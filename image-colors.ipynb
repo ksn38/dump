{
 "cells": [
  {
   "cell_type": "code",
   "execution_count": 1,
   "metadata": {},
   "outputs": [],
   "source": [
    "from PIL import Image\n",
    "import PIL.ImageOps    \n",
    "import os\n",
    "import numpy as np\n",
    "import matplotlib.pyplot as plt\n",
    "import matplotlib.colors"
   ]
  },
  {
   "cell_type": "code",
   "execution_count": 32,
   "metadata": {},
   "outputs": [],
   "source": [
    "image = Image.open('E:\\\\Temp\\\\tmp\\\\0000.png')\n",
    "\n",
    "if image.mode == 'RGBA':\n",
    "    r,g,b,a = image.split()\n",
    "    rgb_image = Image.merge('RGB', (r,g,b))\n",
    "    \n",
    "#     inverted_image = PIL.ImageOps.invert(rgb_image)\n",
    "#     r2,g2,b2 = inverted_image.split()\n",
    "#     final_transparent_image = Image.merge('RGBA', (r2,g2,b2,a))\n",
    "    final_transparent_image = PIL.ImageOps.grayscale(rgb_image)\n",
    "    final_transparent_image = PIL.ImageOps.autocontrast(final_transparent_image)\n",
    "    final_transparent_image.save('new_file.png')\n",
    "\n",
    "else:\n",
    "    inverted_image = PIL.ImageOps.invert(image)\n",
    "    inverted_image.save('new_name.png')\n",
    "\n",
    "final_transparent_image.show()"
   ]
  },
  {
   "cell_type": "code",
   "execution_count": 2,
   "metadata": {},
   "outputs": [],
   "source": [
    "list_files = os.listdir('E:\\\\Temp\\\\tmp\\\\')\n",
    "for i in list_files:\n",
    "    image = Image.open('E:\\\\Temp\\\\tmp\\\\' + i)\n",
    "    r,g,b,a = image.split()\n",
    "    rgb_image = Image.merge('RGB', (r,g,b))\n",
    "    final_transparent_image = PIL.ImageOps.grayscale(rgb_image)\n",
    "    final_transparent_image = PIL.ImageOps.autocontrast(final_transparent_image)\n",
    "    final_transparent_image.save('E:\\\\Temp\\\\tmp_gist_ncar_grey\\\\' + i)"
   ]
  },
  {
   "cell_type": "code",
   "execution_count": 48,
   "metadata": {},
   "outputs": [],
   "source": [
    "list_files = os.listdir('C:\\\\Users\\\\ksn\\\\temp')\n",
    "for i in list_files:\n",
    "    image = Image.open('C:\\\\Users\\\\ksn\\\\temp\\\\' + i)\n",
    "    r,g,b,a = image.split()\n",
    "    rgb_image = Image.merge('RGB', (r,g,b))\n",
    "    PIL.ImageOps.solarize(rgb_image, threshold=227).save('E:\\\\Temp\\\\tmp_Pastel1_sol\\\\' + i)"
   ]
  },
  {
   "cell_type": "code",
   "execution_count": 2,
   "metadata": {},
   "outputs": [
    {
     "ename": "ModuleNotFoundError",
     "evalue": "No module named 'mandelbrot_image_circle'",
     "output_type": "error",
     "traceback": [
      "\u001b[1;31m---------------------------------------------------------------------------\u001b[0m",
      "\u001b[1;31mModuleNotFoundError\u001b[0m                       Traceback (most recent call last)",
      "\u001b[1;32m<ipython-input-2-e2b9ee8ae066>\u001b[0m in \u001b[0;36m<module>\u001b[1;34m\u001b[0m\n\u001b[1;32m----> 1\u001b[1;33m \u001b[1;32mimport\u001b[0m \u001b[0mmandelbrot_image_circle\u001b[0m\u001b[1;33m\u001b[0m\u001b[1;33m\u001b[0m\u001b[0m\n\u001b[0m\u001b[0;32m      2\u001b[0m \u001b[1;33m\u001b[0m\u001b[0m\n\u001b[0;32m      3\u001b[0m my_cmap = matplotlib.colors.ListedColormap(['#1c1b41', '#edcf02', '#38703f', '#f5f7db', \\\n\u001b[0;32m      4\u001b[0m                                             '#292328', '#e42417', '#546da2', '#d8b21e'], name='my_cmap')\n\u001b[0;32m      5\u001b[0m \u001b[0mmb\u001b[0m \u001b[1;33m=\u001b[0m \u001b[0mmandelbrot_image_circle\u001b[0m\u001b[1;33m.\u001b[0m\u001b[0mcalc_mand\u001b[0m\u001b[1;33m(\u001b[0m\u001b[1;36m720\u001b[0m\u001b[1;33m,\u001b[0m \u001b[1;36m50\u001b[0m\u001b[1;33m,\u001b[0m \u001b[1;36m3.5\u001b[0m\u001b[1;33m,\u001b[0m \u001b[1;33m-\u001b[0m\u001b[1;36m0.5\u001b[0m\u001b[1;33m,\u001b[0m \u001b[1;36m0\u001b[0m\u001b[1;33m,\u001b[0m \u001b[1;36m2\u001b[0m\u001b[1;33m)\u001b[0m\u001b[1;33m\u001b[0m\u001b[1;33m\u001b[0m\u001b[0m\n",
      "\u001b[1;31mModuleNotFoundError\u001b[0m: No module named 'mandelbrot_image_circle'"
     ]
    }
   ],
   "source": [
    "import mandelbrot_image_circle\n",
    "\n",
    "my_cmap = matplotlib.colors.ListedColormap(['#1c1b41', '#edcf02', '#38703f', '#f5f7db', \\\n",
    "                                            '#292328', '#e42417', '#546da2', '#d8b21e'], name='my_cmap')\n",
    "mb = mandelbrot_image_circle.calc_mand(720, 50, 3.5, -0.5, 0, 2)\n",
    "\n",
    "plt.subplots()[0].set_size_inches(10, 10)\n",
    "plt.imshow((mb.imag), cmap=my_cmap)"
   ]
  },
  {
   "cell_type": "code",
   "execution_count": null,
   "metadata": {},
   "outputs": [],
   "source": []
  }
 ],
 "metadata": {
  "kernelspec": {
   "display_name": "Python 3",
   "language": "python",
   "name": "python3"
  },
  "language_info": {
   "codemirror_mode": {
    "name": "ipython",
    "version": 3
   },
   "file_extension": ".py",
   "mimetype": "text/x-python",
   "name": "python",
   "nbconvert_exporter": "python",
   "pygments_lexer": "ipython3",
   "version": "3.7.8"
  }
 },
 "nbformat": 4,
 "nbformat_minor": 4
}
